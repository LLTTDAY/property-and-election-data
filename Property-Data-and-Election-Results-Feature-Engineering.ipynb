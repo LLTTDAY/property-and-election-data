{
 "cells": [
  {
   "cell_type": "markdown",
   "metadata": {},
   "source": [
    "Residential Property Data and Presidential Election Results - Data Preprocessing and Feature Engineering"
   ]
  },
  {
   "cell_type": "markdown",
   "metadata": {},
   "source": [
    "We will be modeling the results of the 2016 presidential election in King County to find out how successfully a learning algorithm can predict the results of an election based on the housing characteristics of voting precincts."
   ]
  },
  {
   "cell_type": "code",
   "execution_count": 1,
   "metadata": {
    "ExecuteTime": {
     "end_time": "2019-07-09T17:16:23.883755Z",
     "start_time": "2019-07-09T17:16:22.560904Z"
    }
   },
   "outputs": [],
   "source": [
    "import pandas as pd\n",
    "import numpy as np\n",
    "import matplotlib.pyplot as plt\n",
    "import seaborn as sns\n",
    "pd.set_option('display.max_colwidth', -1)\n",
    "pd.set_option(\"display.max_columns\", 200)\n",
    "pd.set_option(\"display.max_rows\", 350)"
   ]
  },
  {
   "cell_type": "markdown",
   "metadata": {},
   "source": [
    "-----"
   ]
  },
  {
   "cell_type": "markdown",
   "metadata": {},
   "source": [
    "## The Data"
   ]
  },
  {
   "cell_type": "markdown",
   "metadata": {},
   "source": [
    "We'll use two datasets: results from the King County Department of Elections and housing data from the King County Assessor.  \n",
    "\n",
    "Election results are reported by precincts, which are groups of up to 1000 voters. The precincts are represented by polygons with areas that are inversely proportional to population density. The raw data is a long format CSV with a row for each observation (ie \"votes for Trump\" or \"number of registered voters\") in each precinct.\n",
    "\n",
    "The Assessor's database extract comes in the form of several different tables. To summarize housing characteristcs by precinct we will need several: parcel data, residential buildings (up to 3 units), apartment complexes (4+ units), condominium units, and condominium complexes. Some of these tables contain one record per parcel. We need to aggregate these to the parcel level. Finally, we'll summarize the housing characteristics for each voting precinct. These derived summary statistics will be the bulk of our feature set for model fitting."
   ]
  },
  {
   "cell_type": "code",
   "execution_count": 2,
   "metadata": {
    "ExecuteTime": {
     "end_time": "2019-07-09T17:17:49.704976Z",
     "start_time": "2019-07-09T17:16:23.889351Z"
    }
   },
   "outputs": [
    {
     "name": "stderr",
     "output_type": "stream",
     "text": [
      "Skipping line 61722: ',' expected after '\"'\n",
      "Skipping line 63236: ',' expected after '\"'\n"
     ]
    }
   ],
   "source": [
    "# read the election results\n",
    "\n",
    "contest = pd.read_csv('16results.csv')\n",
    "\n",
    "# read parcel areas file\n",
    "\n",
    "areas = pd.read_csv('parcel_areas.csv')\n",
    "\n",
    "# read assessor lookup table for category details\n",
    "\n",
    "lookup = pd.read_csv('cd/EXTR_Lookup.csv', engine=\"python\")\n",
    "\n",
    "# read parcel, residential, apartment, condo, and real property account files\n",
    "\n",
    "parcel = pd.read_csv('cd/EXTR_Parcel.csv', engine=\"python\")\n",
    "res = pd.read_csv('cd/EXTR_ResBldg.csv', engine=\"python\")\n",
    "apt = pd.read_csv('cd/EXTR_AptComplex.csv', engine=\"python\")\n",
    "condo = pd.read_csv('cd/EXTR_CondoComplex.csv', engine=\"python\")\n",
    "cunits = pd.read_csv('cd/EXTR_CondoUnit2.csv', engine=\"python\",\n",
    "                     error_bad_lines=False, warn_bad_lines=True)\n",
    "value = pd.read_csv('cd/EXTR_RPAcct_NoName.csv')"
   ]
  },
  {
   "cell_type": "code",
   "execution_count": 3,
   "metadata": {
    "ExecuteTime": {
     "end_time": "2019-07-09T17:17:49.731787Z",
     "start_time": "2019-07-09T17:17:49.708583Z"
    }
   },
   "outputs": [],
   "source": [
    "# Create a dictionary of the lookup table references for each categorical variable\n",
    "\n",
    "usedcols = {\n",
    "    'res': {\n",
    "        'Condition': 83,\n",
    "        'BldgGrade': 82\n",
    "    },\n",
    "    'cunits': {\n",
    "        'UnitType': 150,\n",
    "        'UnitQuality': 151,\n",
    "        'UnitLocation': 152,\n",
    "        'Condition': 155,\n",
    "        'ViewMountain': 157,\n",
    "        'ViewLakeRiver': 157,\n",
    "        'ViewCityTerritorial': 157,\n",
    "        'ViewPugetSound': 157,\n",
    "        'ViewLakeWaSamm': 157,\n",
    "        'ComplexType': 143,\n",
    "        'ProjectLocation': 98,\n",
    "        'ProjectAppeal': 99,\n",
    "        'ConstrClass': 97,\n",
    "        'BldgQuality': 96,\n",
    "        'Laundry': 89,\n",
    "        'CondoLandType': 145\n",
    "    },\n",
    "    'apt': {\n",
    "        'ProjectLocation': 98,\n",
    "        'ProjectAppeal': 99,\n",
    "        'ConstrClass': 97,\n",
    "        'BldgQuality': 96,\n",
    "        'Laundry': 89,\n",
    "        'Condition': 83\n",
    "    },\n",
    "    'parcel': {\n",
    "        'WaterSystem': 56,\n",
    "        'SewerSystem': 57,\n",
    "        'StreetSurface': 60,\n",
    "        'MtRainier': 58,\n",
    "        'Olympics': 58,\n",
    "        'Cascades': 58,\n",
    "        'Territorial': 58,\n",
    "        'SeattleSkyline': 58,\n",
    "        'PugetSound': 58,\n",
    "        'LakeWashington': 58,\n",
    "        'LakeSammamish': 58,\n",
    "        'SmallLakeRiverCreek': 58,\n",
    "        'OtherView': 58,\n",
    "        'WfntLocation': 50,\n",
    "        'TrafficNoise': 95\n",
    "    }\n",
    "}\n",
    "\n",
    "\n",
    "def replacecats(df, table):\n",
    "    \"\"\"Replace encoded categorical values in a dataframe with actual category names.\"\"\"\n",
    "    for key, value in usedcols[table].items():\n",
    "        # load the values to find and replace for each column\n",
    "        x = lookup[lookup['LUType'] == value]['LUItem'].tolist()\n",
    "        y = lookup[lookup['LUType'] == value]['LUDescription'].tolist()\n",
    "        y = [z.replace(' ', '').replace('/', '').replace('(', '').replace(')',\n",
    "                                                                          '').replace('+', '').replace(',', '') for z in y]\n",
    "\n",
    "        # apply to the current column if it exists\n",
    "        try:\n",
    "            df[key] = df[key].replace(x, y)\n",
    "        except:\n",
    "            pass"
   ]
  },
  {
   "cell_type": "markdown",
   "metadata": {},
   "source": [
    "----"
   ]
  },
  {
   "cell_type": "markdown",
   "metadata": {},
   "source": [
    "#### Parcel Areas\n",
    "Because some parcels overlap with precincts, we are also using with a table of the areas of every parcel-precinct slice. Many of these span multiple precincts. We are assuming that almost every residential parcel is entirely (or close to entirely) within a single precinct, but we need to confirm that by looking at a histogram of the relative proportional areas of the slices of each parcel. As we can see, the slices are nearly all slivers: either above 99% or below 1% of parcel areas. What that means is that we're probably not going to have to worry about apportioning parcel statistics between different precincts. But we can check to make sure."
   ]
  },
  {
   "cell_type": "code",
   "execution_count": 4,
   "metadata": {
    "ExecuteTime": {
     "end_time": "2019-07-09T17:17:49.743377Z",
     "start_time": "2019-07-09T17:17:49.738663Z"
    }
   },
   "outputs": [],
   "source": [
    "# Make an array of parcel IDs contained in our residential tables\n",
    "# areas = pd.read_csv('parcel_areas.csv')\n",
    "# pins = res['pin'].append(apt['pin']).append(cunits['pin']).astype(str).unique()"
   ]
  },
  {
   "cell_type": "code",
   "execution_count": 5,
   "metadata": {
    "ExecuteTime": {
     "end_time": "2019-07-09T17:17:49.756796Z",
     "start_time": "2019-07-09T17:17:49.750647Z"
    }
   },
   "outputs": [],
   "source": [
    "# areas = areas.loc[areas['pin'].isin(pins)]"
   ]
  },
  {
   "cell_type": "code",
   "execution_count": 6,
   "metadata": {
    "ExecuteTime": {
     "end_time": "2019-07-09T17:18:00.334961Z",
     "start_time": "2019-07-09T17:17:49.761335Z"
    }
   },
   "outputs": [],
   "source": [
    "areas['total'] = areas.groupby(['name']).transform('sum')['area']\n",
    "areas['share'] = areas['area'] / areas['total']\n",
    "areas['counter'] = 1\n",
    "sum_areas = areas.groupby(['pin', 'name']).agg(\n",
    "    {'area': 'sum', 'counter': 'sum'})\n",
    "sum_areas['c'] = sum_areas.groupby('pin').transform('sum')['counter']\n",
    "sum_areas['subarea'] = sum_areas.groupby(['pin']).transform('sum')['area']\n",
    "sum_areas['subshare'] = sum_areas['area'] / sum_areas['subarea']\n",
    "sum_areas.reset_index(inplace=True)"
   ]
  },
  {
   "cell_type": "code",
   "execution_count": 7,
   "metadata": {
    "ExecuteTime": {
     "end_time": "2019-07-09T17:18:01.116184Z",
     "start_time": "2019-07-09T17:18:00.339167Z"
    }
   },
   "outputs": [
    {
     "data": {
      "image/png": "[encoded data removed]",
      "text/plain": [
       "<Figure size 432x288 with 1 Axes>"
      ]
     },
     "metadata": {
      "needs_background": "light"
     },
     "output_type": "display_data"
    }
   ],
   "source": [
    "sum_areas['subshare'].hist(bins=100)\n",
    "plt.title = 'Share of parcel area by precinct slice'\n",
    "plt.show()"
   ]
  },
  {
   "cell_type": "code",
   "execution_count": 8,
   "metadata": {
    "ExecuteTime": {
     "end_time": "2019-07-09T17:18:01.769152Z",
     "start_time": "2019-07-09T17:18:01.120944Z"
    }
   },
   "outputs": [
    {
     "data": {
      "text/plain": [
       "<matplotlib.axes._subplots.AxesSubplot at 0x1a24196e48>"
      ]
     },
     "execution_count": 8,
     "metadata": {},
     "output_type": "execute_result"
    },
    {
     "data": {
      "image/png": "[encoded data removed]",
      "text/plain": [
       "<Figure size 432x288 with 1 Axes>"
      ]
     },
     "metadata": {
      "needs_background": "light"
     },
     "output_type": "display_data"
    }
   ],
   "source": [
    "sum_areas[(sum_areas.subshare < .7) & (sum_areas.subshare > .3)\n",
    "          ].sort_values(by=['pin', 'name']).subshare.hist(bins=5)"
   ]
  },
  {
   "cell_type": "markdown",
   "metadata": {},
   "source": [
    "There are around 1000 (of ~600,000) parcels with a more even split than this 70/30 threshold. A single parcel will not throw off a whole precinct's totals, so we are going to assign each precinct to a specific precinct: the one with the largest slice per parcel."
   ]
  },
  {
   "cell_type": "code",
   "execution_count": 9,
   "metadata": {
    "ExecuteTime": {
     "end_time": "2019-07-09T17:18:02.774968Z",
     "start_time": "2019-07-09T17:18:01.774471Z"
    }
   },
   "outputs": [],
   "source": [
    "# pulling the precinct with the larger slice of each parcel\n",
    "\n",
    "idx = sum_areas.groupby(['pin'])['area'].transform(max) == sum_areas['area']\n",
    "parcel_precincts = sum_areas[idx].sort_values('subshare')[['pin','name']]"
   ]
  },
  {
   "cell_type": "markdown",
   "metadata": {},
   "source": [
    "----"
   ]
  },
  {
   "cell_type": "markdown",
   "metadata": {},
   "source": [
    "#### Parcel File\n",
    "Parcels are the basic unit of real property"
   ]
  },
  {
   "cell_type": "code",
   "execution_count": 10,
   "metadata": {
    "ExecuteTime": {
     "end_time": "2019-07-09T17:18:46.391128Z",
     "start_time": "2019-07-09T17:18:02.778308Z"
    }
   },
   "outputs": [],
   "source": [
    "parcel = pd.read_csv('cd/EXTR_Parcel.csv', engine=\"python\")"
   ]
  },
  {
   "cell_type": "code",
   "execution_count": 11,
   "metadata": {
    "ExecuteTime": {
     "end_time": "2019-07-09T17:18:58.628747Z",
     "start_time": "2019-07-09T17:18:46.394819Z"
    }
   },
   "outputs": [],
   "source": [
    "value['pin'] = value['Major'].astype(str).str.zfill(\n",
    "    6) + value['Minor'].astype(str).str.zfill(4)\n",
    "parcel['pin'] = parcel['Major'].astype(str).str.zfill(\n",
    "    6) + parcel['Minor'].astype(str).str.zfill(4)\n",
    "parcel = parcel.merge(value, how='left', left_on='pin', right_on='pin')"
   ]
  },
  {
   "cell_type": "code",
   "execution_count": 12,
   "metadata": {
    "ExecuteTime": {
     "end_time": "2019-07-09T17:18:58.653536Z",
     "start_time": "2019-07-09T17:18:58.632077Z"
    }
   },
   "outputs": [],
   "source": [
    "parcelcols = [\n",
    "    'pin',\n",
    "    'SqFtLot',\n",
    "    'WaterSystem',\n",
    "    'SewerSystem',\n",
    "    'StreetSurface',\n",
    "    'MtRainier',\n",
    "    'Olympics',\n",
    "    'Cascades',\n",
    "    'Territorial',\n",
    "    'SeattleSkyline',\n",
    "    'PugetSound',\n",
    "    'LakeWashington',\n",
    "    'LakeSammamish',\n",
    "    'SmallLakeRiverCreek',\n",
    "    'OtherView',\n",
    "    'WfntLocation',\n",
    "    'WfntFootage',\n",
    "    'TrafficNoise',\n",
    "    'AirportNoise',\n",
    "    'PowerLines',\n",
    "    'AdjacentGolfFairway',\n",
    "    'ApprLandVal',\n",
    "    'ApprImpsVal'\n",
    "]"
   ]
  },
  {
   "cell_type": "code",
   "execution_count": 13,
   "metadata": {
    "ExecuteTime": {
     "end_time": "2019-07-09T17:19:01.705744Z",
     "start_time": "2019-07-09T17:18:58.668156Z"
    }
   },
   "outputs": [],
   "source": [
    "parcel = parcel[parcelcols]"
   ]
  },
  {
   "cell_type": "code",
   "execution_count": 14,
   "metadata": {
    "ExecuteTime": {
     "end_time": "2019-07-09T17:19:06.746826Z",
     "start_time": "2019-07-09T17:19:01.711425Z"
    }
   },
   "outputs": [],
   "source": [
    "# replace categories, get dummies\n",
    "\n",
    "replacecats(parcel, 'parcel')\n",
    "parcelcats = [\n",
    "    'WaterSystem',\n",
    "    'SewerSystem',\n",
    "    'StreetSurface',\n",
    "    'MtRainier',\n",
    "    'Olympics',\n",
    "    'Cascades',\n",
    "    'Territorial',\n",
    "    'SeattleSkyline',\n",
    "    'PugetSound',\n",
    "    'LakeWashington',\n",
    "    'LakeSammamish',\n",
    "    'SmallLakeRiverCreek',\n",
    "    'OtherView',\n",
    "    'WfntLocation',\n",
    "    'TrafficNoise',\n",
    "    'PowerLines',\n",
    "    'AdjacentGolfFairway'\n",
    "]\n",
    "parcel = pd.get_dummies(parcel, columns=parcelcats)\n",
    "\n",
    "\n",
    "# groupby 'name' and agg by coldict\n",
    "\n",
    "\n",
    "# divide by"
   ]
  },
  {
   "cell_type": "code",
   "execution_count": 15,
   "metadata": {
    "ExecuteTime": {
     "end_time": "2019-07-09T17:19:09.487691Z",
     "start_time": "2019-07-09T17:19:06.749998Z"
    }
   },
   "outputs": [],
   "source": [
    "parcel = parcel.merge(parcel_precincts, how='left',\n",
    "                      left_on='pin', right_on='pin').reset_index()\n",
    "\n",
    "for col in parcel.columns.tolist():\n",
    "    if '_' in col:\n",
    "        parcel[col] = parcel[col] * parcel['SqFtLot']\n",
    "\n",
    "parcelcoldict = {}\n",
    "for col in parcel.columns.tolist():\n",
    "    parcelcoldict[col] = 'sum'"
   ]
  },
  {
   "cell_type": "code",
   "execution_count": 16,
   "metadata": {
    "ExecuteTime": {
     "end_time": "2019-07-09T17:19:09.552971Z",
     "start_time": "2019-07-09T17:19:09.491468Z"
    }
   },
   "outputs": [
    {
     "data": {
      "text/plain": [
       "2533"
      ]
     },
     "execution_count": 16,
     "metadata": {},
     "output_type": "execute_result"
    }
   ],
   "source": [
    "len(parcel.name.unique())"
   ]
  },
  {
   "cell_type": "code",
   "execution_count": 17,
   "metadata": {
    "ExecuteTime": {
     "end_time": "2019-07-09T17:19:10.569107Z",
     "start_time": "2019-07-09T17:19:09.558033Z"
    }
   },
   "outputs": [],
   "source": [
    "parcel.drop(['pin'], axis=1, inplace=True)"
   ]
  },
  {
   "cell_type": "code",
   "execution_count": 18,
   "metadata": {
    "ExecuteTime": {
     "end_time": "2019-07-09T17:19:11.376914Z",
     "start_time": "2019-07-09T17:19:10.572670Z"
    }
   },
   "outputs": [],
   "source": [
    "parcelcoldict.pop('pin')\n",
    "parcelcoldict.pop('name')\n",
    "parcels = parcel.groupby('name').agg(parcelcoldict)"
   ]
  },
  {
   "cell_type": "code",
   "execution_count": 19,
   "metadata": {
    "ExecuteTime": {
     "end_time": "2019-07-09T17:19:11.398327Z",
     "start_time": "2019-07-09T17:19:11.391520Z"
    }
   },
   "outputs": [
    {
     "data": {
      "text/plain": [
       "2532"
      ]
     },
     "execution_count": 19,
     "metadata": {},
     "output_type": "execute_result"
    }
   ],
   "source": [
    "len(parcels)"
   ]
  },
  {
   "cell_type": "markdown",
   "metadata": {},
   "source": [
    "-----"
   ]
  },
  {
   "cell_type": "markdown",
   "metadata": {},
   "source": [
    "#### ResBldg File\n",
    "These files contain more data than we want or need and this file in particular contains multiple records per parcel. Some parcels have multiple buildings. We are going to drop some columns and consolidate other columns before we aggregate to the parcel level."
   ]
  },
  {
   "cell_type": "code",
   "execution_count": 20,
   "metadata": {
    "ExecuteTime": {
     "end_time": "2019-07-09T17:19:40.532321Z",
     "start_time": "2019-07-09T17:19:11.411586Z"
    }
   },
   "outputs": [],
   "source": [
    "res = pd.read_csv('cd/EXTR_ResBldg.csv', engine=\"python\")"
   ]
  },
  {
   "cell_type": "code",
   "execution_count": 21,
   "metadata": {
    "ExecuteTime": {
     "end_time": "2019-07-09T17:19:41.999485Z",
     "start_time": "2019-07-09T17:19:40.535572Z"
    }
   },
   "outputs": [],
   "source": [
    "res['pin'] = res['Major'].astype(str).str.zfill(\n",
    "    6) + res['Minor'].astype(str).str.zfill(4)"
   ]
  },
  {
   "cell_type": "code",
   "execution_count": 22,
   "metadata": {
    "ExecuteTime": {
     "end_time": "2019-07-09T17:19:42.910955Z",
     "start_time": "2019-07-09T17:19:42.002646Z"
    }
   },
   "outputs": [],
   "source": [
    "# First we will drop a bunch of columns\n",
    "\n",
    "res.drop(columns=['Major',\n",
    "                  'Minor',\n",
    "                  'BldgNbr',\n",
    "                  'Address',\n",
    "                  'BuildingNumber',\n",
    "                  'Fraction',\n",
    "                  'DirectionPrefix',\n",
    "                  'StreetName',\n",
    "                  'StreetType',\n",
    "                  'DirectionSuffix',\n",
    "                  'ZipCode',\n",
    "                  'BldgGradeVar',\n",
    "                  'SqFt1stFloor',\n",
    "                  'SqFtHalfFloor',\n",
    "                  'SqFt2ndFloor',\n",
    "                  'SqFtUpperFloor',\n",
    "                  'SqFtUnfinFull',\n",
    "                  'SqFtUnfinHalf',\n",
    "                  'SqFtFinBasement',\n",
    "                  'FinBasementGrade',\n",
    "                  'DaylightBasement',\n",
    "                  'SqFtOpenPorch',\n",
    "                  'SqFtEnclosedPorch',\n",
    "                  'SqFtDeck',\n",
    "                  'HeatSystem',\n",
    "                  'HeatSource',\n",
    "                  'ViewUtilization',\n",
    "                  'PcntComplete',\n",
    "                  'Obsolescence',\n",
    "                  'PcntNetCondition',\n",
    "                  'AddnlCost'], inplace=True)"
   ]
  },
  {
   "cell_type": "code",
   "execution_count": 23,
   "metadata": {
    "ExecuteTime": {
     "end_time": "2019-07-09T17:19:44.323265Z",
     "start_time": "2019-07-09T17:19:42.916677Z"
    }
   },
   "outputs": [],
   "source": [
    "# Now we apply our lookup table to the categorical variables so that get_dummies gives us nice feature names\n",
    "\n",
    "replacecats(res, 'res')\n",
    "rescats = ['BldgGrade', 'Condition']\n",
    "rescat = res[rescats]\n",
    "res = pd.get_dummies(res, columns=rescats)\n",
    "\n",
    "# Now we'll consolidate some of these measurements\n",
    "\n",
    "res['bath'] = res['BathHalfCount'] * .5 + \\\n",
    "    res['BathFullCount'] + res['Bath3qtrCount'] * .75\n",
    "res['fp'] = res['FpSingleStory'] + res['FpMultiStory'] + \\\n",
    "    res['FpFreestanding'] + res['FpAdditional']\n",
    "res['garage'] = res['SqFtGarageBasement'] + res['SqFtGarageAttached']\n",
    "res.drop(columns=['BathHalfCount',\n",
    "                  'Bath3qtrCount',\n",
    "                  'BathFullCount',\n",
    "                  'FpSingleStory',\n",
    "                  'FpMultiStory',\n",
    "                  'FpFreestanding',\n",
    "                  'FpAdditional',\n",
    "                  'SqFtGarageBasement',\n",
    "                  'SqFtGarageAttached'], inplace=True)"
   ]
  },
  {
   "cell_type": "code",
   "execution_count": 24,
   "metadata": {
    "ExecuteTime": {
     "end_time": "2019-07-09T17:19:47.245066Z",
     "start_time": "2019-07-09T17:19:44.326756Z"
    },
    "scrolled": true
   },
   "outputs": [],
   "source": [
    "# Aggregate by parcel id\n",
    "\n",
    "res['nbldg'] = 1\n",
    "\n",
    "# years and percentages multiplied by living units\n",
    "\n",
    "res['YrBuilt'] = res['YrBuilt'] * res['NbrLivingUnits']\n",
    "res['YrRenovated'] = res['YrRenovated'] * res['NbrLivingUnits']\n",
    "res['IsRenovated'] = (res['YrRenovated'] != 0).astype(\n",
    "    int) * res['NbrLivingUnits']\n",
    "res['BrickStone'] = res['BrickStone'] * res['NbrLivingUnits']\n",
    "res['DupTrip'] = (res['NbrLivingUnits'].isin([2, 3])).astype(int)\n",
    "res['DSF'] = (res['NbrLivingUnits'] == 1).astype(int)\n",
    "\n",
    "for col in res.columns.tolist():\n",
    "    if '_' in col:\n",
    "        res[col] = res[col] * res['NbrLivingUnits']\n",
    "\n",
    "rescoldict = {}\n",
    "for col in res.columns.tolist():\n",
    "    rescoldict[col] = 'sum'\n",
    "rescoldict.pop('pin')\n",
    "\n",
    "rb = res.groupby('pin').agg(rescoldict).reset_index()"
   ]
  },
  {
   "cell_type": "code",
   "execution_count": 25,
   "metadata": {
    "ExecuteTime": {
     "end_time": "2019-07-09T17:19:49.136702Z",
     "start_time": "2019-07-09T17:19:47.249392Z"
    }
   },
   "outputs": [],
   "source": [
    "rb = rb.merge(parcel_precincts, how='left',\n",
    "              left_on='pin', right_on='pin').reset_index()\n",
    "rb.drop(['pin'], axis=1, inplace=True)"
   ]
  },
  {
   "cell_type": "code",
   "execution_count": 26,
   "metadata": {
    "ExecuteTime": {
     "end_time": "2019-07-09T17:19:49.447553Z",
     "start_time": "2019-07-09T17:19:49.140113Z"
    }
   },
   "outputs": [],
   "source": [
    "resbldg = rb.groupby('name').agg(rescoldict)"
   ]
  },
  {
   "cell_type": "code",
   "execution_count": 27,
   "metadata": {
    "ExecuteTime": {
     "end_time": "2019-07-09T17:19:49.463264Z",
     "start_time": "2019-07-09T17:19:49.450810Z"
    }
   },
   "outputs": [],
   "source": [
    "resbldg['YrBuilt'] = resbldg['YrBuilt'] / resbldg['NbrLivingUnits']\n",
    "resbldg['YrRenovated'] = resbldg['YrRenovated'] / resbldg['IsRenovated']\n",
    "resbldg['BrickStone'] = resbldg['BrickStone'] / resbldg['NbrLivingUnits']"
   ]
  },
  {
   "cell_type": "markdown",
   "metadata": {},
   "source": [
    "----"
   ]
  },
  {
   "cell_type": "markdown",
   "metadata": {},
   "source": [
    "#### Apartment File"
   ]
  },
  {
   "cell_type": "code",
   "execution_count": 28,
   "metadata": {
    "ExecuteTime": {
     "end_time": "2019-07-09T17:19:49.716926Z",
     "start_time": "2019-07-09T17:19:49.466967Z"
    }
   },
   "outputs": [],
   "source": [
    "apt = pd.read_csv('cd/EXTR_AptComplex.csv', engine=\"python\")"
   ]
  },
  {
   "cell_type": "code",
   "execution_count": 29,
   "metadata": {
    "ExecuteTime": {
     "end_time": "2019-07-09T17:19:49.778291Z",
     "start_time": "2019-07-09T17:19:49.721862Z"
    }
   },
   "outputs": [],
   "source": [
    "apt['pin'] = (apt['Major'].astype(str).str.zfill(\n",
    "    6) + apt['Minor'].astype(str).str.zfill(4))"
   ]
  },
  {
   "cell_type": "code",
   "execution_count": 30,
   "metadata": {
    "ExecuteTime": {
     "end_time": "2019-07-09T17:19:50.337301Z",
     "start_time": "2019-07-09T17:19:49.782715Z"
    }
   },
   "outputs": [],
   "source": [
    "replacecats(apt, 'apt')\n",
    "\n",
    "aptcats = [\n",
    "    'ProjectLocation',\n",
    "    'ProjectAppeal',\n",
    "    'ConstrClass',\n",
    "    'BldgQuality',\n",
    "    'Condition',\n",
    "    'Elevators',\n",
    "    'Fireplace',\n",
    "    'Laundry',\n",
    "    'SectySystem'\n",
    "]\n",
    "\n",
    "apt = pd.get_dummies(apt, columns=aptcats)\n",
    "apt['unitsftotal'] = apt['NbrUnits'] * apt['AvgUnitSize']\n",
    "apt['yrbuilttot'] = apt['NbrUnits'] * apt['YrBuilt']\n",
    "apt['effyrtot'] = apt['NbrUnits'] * apt['EffYr']\n",
    "apt['nstoriestot'] = apt['NbrUnits'] * apt['NbrStories']\n",
    "\n",
    "apt.drop(columns=['Major', 'Minor', 'NbrBldgs', 'NbrStories', 'ComplexDescr', 'Address',\n",
    "                  'PcntComplete', 'PcntWithView', 'AvgUnitSize', 'YrBuilt', 'EffYr'], inplace=True)\n",
    "\n",
    "# aggregate\n",
    "\n",
    "apt = apt.merge(parcel_precincts, how='left',\n",
    "                left_on='pin', right_on='pin').reset_index()\n",
    "apt.drop(['pin'], axis=1, inplace=True)"
   ]
  },
  {
   "cell_type": "code",
   "execution_count": 31,
   "metadata": {
    "ExecuteTime": {
     "end_time": "2019-07-09T17:19:50.396578Z",
     "start_time": "2019-07-09T17:19:50.341273Z"
    }
   },
   "outputs": [],
   "source": [
    "# make dict to specify pandas aggregate functions\n",
    "\n",
    "aptcoldict = {}\n",
    "for col in apt.columns.tolist():\n",
    "    aptcoldict[col] = 'sum'\n",
    "\n",
    "# multiply categorical variables (which are per building/complex) by number of units\n",
    "\n",
    "for col in apt.columns.tolist():\n",
    "    if '_' in col:\n",
    "        apt[col] = apt[col] * apt['NbrUnits']"
   ]
  },
  {
   "cell_type": "code",
   "execution_count": 32,
   "metadata": {
    "ExecuteTime": {
     "end_time": "2019-07-09T17:19:50.714952Z",
     "start_time": "2019-07-09T17:19:50.399929Z"
    }
   },
   "outputs": [],
   "source": [
    "apartment = apt.groupby('name').agg(aptcoldict)"
   ]
  },
  {
   "cell_type": "code",
   "execution_count": 33,
   "metadata": {
    "ExecuteTime": {
     "end_time": "2019-07-09T17:19:50.730873Z",
     "start_time": "2019-07-09T17:19:50.719051Z"
    }
   },
   "outputs": [],
   "source": [
    "perunitcols = ['effyrtot', 'yrbuilttot', 'unitsftotal', 'nstoriestot']\n",
    "for col in perunitcols:\n",
    "    apartment[col] = apartment[col] / apartment['NbrUnits']"
   ]
  },
  {
   "cell_type": "markdown",
   "metadata": {},
   "source": [
    "------"
   ]
  },
  {
   "cell_type": "markdown",
   "metadata": {},
   "source": [
    "#### Condo Complex and Unit Files\n",
    "The Condo Unit file is separate from condo complexes, so in cases where there is multiple ownership per parcel, as in a condo building, you combine the id of the complex and the unit to get the parcel ID number, which we will use to apportion statistics by precinct=parcel slice so we can re aggregate to our needed format. By definition there is exactly one (combined) record per parcel."
   ]
  },
  {
   "cell_type": "code",
   "execution_count": 34,
   "metadata": {
    "ExecuteTime": {
     "end_time": "2019-07-09T17:19:55.538840Z",
     "start_time": "2019-07-09T17:19:50.735421Z"
    }
   },
   "outputs": [
    {
     "name": "stderr",
     "output_type": "stream",
     "text": [
      "Skipping line 61722: ',' expected after '\"'\n",
      "Skipping line 63236: ',' expected after '\"'\n"
     ]
    }
   ],
   "source": [
    "condos = pd.read_csv('cd/EXTR_CondoComplex.csv', engine=\"python\")\n",
    "cunits = pd.read_csv('cd/EXTR_CondoUnit2.csv', engine=\"python\",\n",
    "                     error_bad_lines=False, warn_bad_lines=True)"
   ]
  },
  {
   "cell_type": "code",
   "execution_count": 35,
   "metadata": {
    "ExecuteTime": {
     "end_time": "2019-07-09T17:19:56.256690Z",
     "start_time": "2019-07-09T17:19:55.542639Z"
    }
   },
   "outputs": [],
   "source": [
    "cunits['pin'] = cunits['Major'].astype(str).str.zfill(6) + '0000'\n",
    "cunits['pinn'] = cunits['Major'].astype(str).str.zfill(\n",
    "    6) + cunits['Major'].astype(str).str.zfill(4)\n",
    "cunits = cunits[['Major', 'pin', 'pinn', 'UnitType', 'UnitQuality', 'UnitLoc', 'Footage', 'NbrBedrooms', 'BathFullCount', 'BathHalfCount',\n",
    "                 'Bath3qtrCount', 'Fireplace', 'Condition', 'ViewMountain', 'ViewLakeRiver', 'ViewCityTerritorial',\n",
    "                 'ViewPugetSound', 'ViewLakeWaSamm']]"
   ]
  },
  {
   "cell_type": "code",
   "execution_count": 36,
   "metadata": {
    "ExecuteTime": {
     "end_time": "2019-07-09T17:19:56.375749Z",
     "start_time": "2019-07-09T17:19:56.259743Z"
    }
   },
   "outputs": [],
   "source": [
    "cunits['NbrBedrooms'] = cunits['NbrBedrooms'].replace(\n",
    "    ['S', ' '], ['0', '0']).astype(int)"
   ]
  },
  {
   "cell_type": "code",
   "execution_count": 37,
   "metadata": {
    "ExecuteTime": {
     "end_time": "2019-07-09T17:19:56.388277Z",
     "start_time": "2019-07-09T17:19:56.379197Z"
    }
   },
   "outputs": [],
   "source": [
    "condo = condos.drop(columns=['Fireplace', 'Condition'])"
   ]
  },
  {
   "cell_type": "code",
   "execution_count": 38,
   "metadata": {
    "ExecuteTime": {
     "end_time": "2019-07-09T17:19:56.662278Z",
     "start_time": "2019-07-09T17:19:56.392610Z"
    }
   },
   "outputs": [],
   "source": [
    "condo = cunits.merge(condo, left_on='Major', right_on='Major')"
   ]
  },
  {
   "cell_type": "code",
   "execution_count": 39,
   "metadata": {
    "ExecuteTime": {
     "end_time": "2019-07-09T17:19:57.952399Z",
     "start_time": "2019-07-09T17:19:56.666547Z"
    }
   },
   "outputs": [],
   "source": [
    "replacecats(condo, 'cunits')\n",
    "condo = pd.get_dummies(condo, columns=['UnitType', 'UnitQuality', 'Fireplace', 'Condition', 'ViewMountain', 'ViewLakeRiver',\n",
    "                                       'ViewCityTerritorial', 'ViewPugetSound', 'ViewLakeWaSamm',\n",
    "                                       'ComplexType', 'ProjectLocation', 'ProjectAppeal', 'ConstrClass', 'BldgQuality', 'Elevators', 'SectySystem', 'Laundry', 'AptConversion',\n",
    "                                       'CondoLandType'])"
   ]
  },
  {
   "cell_type": "code",
   "execution_count": 40,
   "metadata": {
    "ExecuteTime": {
     "end_time": "2019-07-09T17:19:58.198872Z",
     "start_time": "2019-07-09T17:19:57.956809Z"
    }
   },
   "outputs": [],
   "source": [
    "condo = condo.drop(columns=['ComplexDescr', 'PcntWithView', 'Address', 'BuildingNumber', 'Fraction',\n",
    "                            'DirectionPrefix', 'StreetName', 'StreetType', 'DirectionSuffix',\n",
    "                            'ZipCode'])"
   ]
  },
  {
   "cell_type": "code",
   "execution_count": 41,
   "metadata": {
    "ExecuteTime": {
     "end_time": "2019-07-09T17:19:58.248880Z",
     "start_time": "2019-07-09T17:19:58.202621Z"
    }
   },
   "outputs": [],
   "source": [
    "# Now we'll consolidate some of these measurements\n",
    "\n",
    "condo['bath'] = condo['BathHalfCount'] * .5 + \\\n",
    "    condo['BathFullCount'] + condo['Bath3qtrCount'] * .75\n",
    "condo.drop(columns=['BathHalfCount', 'Bath3qtrCount',\n",
    "                    'BathFullCount'], inplace=True)"
   ]
  },
  {
   "cell_type": "code",
   "execution_count": 42,
   "metadata": {
    "ExecuteTime": {
     "end_time": "2019-07-09T17:19:58.630345Z",
     "start_time": "2019-07-09T17:19:58.253022Z"
    }
   },
   "outputs": [],
   "source": [
    "condcoldict = {}\n",
    "for col in condo.columns.tolist():\n",
    "    condcoldict[col] = 'sum'\n",
    "condcoldict.pop('pin')\n",
    "condcoldict['pinn'] = 'count'\n",
    "condo = condo.groupby('pin').agg(condcoldict)"
   ]
  },
  {
   "cell_type": "code",
   "execution_count": 43,
   "metadata": {
    "ExecuteTime": {
     "end_time": "2019-07-09T17:19:59.172721Z",
     "start_time": "2019-07-09T17:19:58.635034Z"
    }
   },
   "outputs": [],
   "source": [
    "condo = condo.merge(parcel_precincts, how='left',\n",
    "                    left_on='pin', right_on='pin').reset_index()\n",
    "condo = condo.groupby('name').agg(condcoldict)"
   ]
  },
  {
   "cell_type": "code",
   "execution_count": 44,
   "metadata": {
    "ExecuteTime": {
     "end_time": "2019-07-09T17:19:59.190479Z",
     "start_time": "2019-07-09T17:19:59.176524Z"
    }
   },
   "outputs": [],
   "source": [
    "condo.head().T.to_csv('csvcondo.csv')"
   ]
  },
  {
   "cell_type": "markdown",
   "metadata": {},
   "source": [
    "-----"
   ]
  },
  {
   "cell_type": "markdown",
   "metadata": {},
   "source": [
    "### Aggregate ResBldg, Parcel, Apts, Condos by Precinct"
   ]
  },
  {
   "cell_type": "code",
   "execution_count": 45,
   "metadata": {
    "ExecuteTime": {
     "end_time": "2019-07-09T17:19:59.226792Z",
     "start_time": "2019-07-09T17:19:59.195028Z"
    }
   },
   "outputs": [],
   "source": [
    "parcels = parcels.fillna(0).add_prefix('p-')\n",
    "resbldg = resbldg.fillna(0).add_prefix('r-')\n",
    "apartment = apartment.fillna(0).add_prefix('a-')\n",
    "condo = condo.fillna(0).add_prefix('c-')"
   ]
  },
  {
   "cell_type": "code",
   "execution_count": 46,
   "metadata": {
    "ExecuteTime": {
     "end_time": "2019-07-09T17:19:59.239095Z",
     "start_time": "2019-07-09T17:19:59.231836Z"
    }
   },
   "outputs": [],
   "source": [
    "fullcols = parcels.columns.append(resbldg.columns).append(\n",
    "    apartment.columns).append(condo.columns).tolist()"
   ]
  },
  {
   "cell_type": "code",
   "execution_count": 47,
   "metadata": {
    "ExecuteTime": {
     "end_time": "2019-07-09T17:19:59.991853Z",
     "start_time": "2019-07-09T17:19:59.243740Z"
    }
   },
   "outputs": [],
   "source": [
    "tabs = [parcels, resbldg, apartment, condo]\n",
    "for tab in tabs:\n",
    "    for col in fullcols:\n",
    "        if col not in tab.columns.tolist():\n",
    "            tab[col] = 0"
   ]
  },
  {
   "cell_type": "code",
   "execution_count": 48,
   "metadata": {
    "ExecuteTime": {
     "end_time": "2019-07-09T17:20:00.202338Z",
     "start_time": "2019-07-09T17:19:59.995999Z"
    }
   },
   "outputs": [
    {
     "name": "stderr",
     "output_type": "stream",
     "text": [
      "/anaconda3/lib/python3.7/site-packages/pandas/core/frame.py:6692: FutureWarning: Sorting because non-concatenation axis is not aligned. A future version\n",
      "of pandas will change to not sort by default.\n",
      "\n",
      "To accept the future behavior, pass 'sort=False'.\n",
      "\n",
      "To retain the current behavior and silence the warning, pass 'sort=True'.\n",
      "\n",
      "  sort=sort)\n"
     ]
    }
   ],
   "source": [
    "# merge the apt, condo, residential, and parcel files\n",
    "\n",
    "X1 = parcels.reset_index().append(apartment.reset_index()).append(\n",
    "    resbldg.reset_index()).append(condo.reset_index())"
   ]
  },
  {
   "cell_type": "code",
   "execution_count": null,
   "metadata": {
    "ExecuteTime": {
     "end_time": "2019-07-09T17:20:01.124210Z",
     "start_time": "2019-07-09T17:16:28.308Z"
    }
   },
   "outputs": [],
   "source": [
    "X2 = X1.groupby('name').agg(sum)"
   ]
  },
  {
   "cell_type": "code",
   "execution_count": null,
   "metadata": {
    "ExecuteTime": {
     "end_time": "2019-07-09T17:20:01.128648Z",
     "start_time": "2019-07-09T17:16:28.313Z"
    }
   },
   "outputs": [],
   "source": [
    "X2['c-pinn'].sample(20)"
   ]
  },
  {
   "cell_type": "markdown",
   "metadata": {},
   "source": [
    "----"
   ]
  },
  {
   "cell_type": "code",
   "execution_count": null,
   "metadata": {
    "ExecuteTime": {
     "end_time": "2019-07-09T17:20:01.131060Z",
     "start_time": "2019-07-09T17:16:28.648Z"
    }
   },
   "outputs": [],
   "source": [
    "import fnmatch\n",
    "parts = ['?_N', '?_0', '?_']\n",
    "for part in parts:\n",
    "    filtered = fnmatch.filter(X2.columns.tolist(), part)\n",
    "    for f in filtered:\n",
    "        X2 = X2.drop(f)"
   ]
  },
  {
   "cell_type": "code",
   "execution_count": null,
   "metadata": {
    "ExecuteTime": {
     "end_time": "2019-07-09T17:20:01.133403Z",
     "start_time": "2019-07-09T17:16:28.653Z"
    }
   },
   "outputs": [],
   "source": [
    "X2['StreetSurfaceUnpaved'] = X2['p-StreetSurface_DIRT'] + \\\n",
    "    X2['p-StreetSurface_GRAVEL'] + X2['p-StreetSurface_UNDEVELOPED']\n",
    "X2['WaterSystemPvt'] = X2['p-WaterSystem_PRIVATE'] + \\\n",
    "    X2['p-WaterSystem_PRIVATERESTRICTED']\n",
    "X2['SewerSystemPvt'] = X2['p-SewerSystem_PRIVATE'] + \\\n",
    "    X2['p-SewerSystem_PRIVATERESTRICTED']\n",
    "X2['HU'] = X2['a-NbrUnits'] + X2['c-pinn'] + X2['r-NbrLivingUnits']\n",
    "X2['aptshare'] = X2['a-NbrUnits'] / X2['HU']\n",
    "X2['condoshare'] = X2['c-pinn'] / X2['HU']\n",
    "X2['dsfshare'] = X2['r-DSF'] / X2['HU']\n",
    "X2['duptripshare'] = X2['r-DupTrip'] / X2['HU']\n",
    "X2['HUDensity'] = X2['HU'] / X2['p-SqFtLot']"
   ]
  },
  {
   "cell_type": "code",
   "execution_count": null,
   "metadata": {
    "ExecuteTime": {
     "end_time": "2019-07-09T17:20:01.136500Z",
     "start_time": "2019-07-09T17:16:28.657Z"
    }
   },
   "outputs": [],
   "source": [
    "X2 = X2[X2['HU'] > 0]"
   ]
  },
  {
   "cell_type": "code",
   "execution_count": null,
   "metadata": {
    "ExecuteTime": {
     "end_time": "2019-07-09T17:20:01.141643Z",
     "start_time": "2019-07-09T17:16:28.662Z"
    }
   },
   "outputs": [],
   "source": [
    "X2['LandValHU'] = X2['p-ApprLandVal'] / X2['HU']\n",
    "X2['ImpValHU'] = X2['p-ApprImpsVal'] / X2['HU']"
   ]
  },
  {
   "cell_type": "code",
   "execution_count": null,
   "metadata": {
    "ExecuteTime": {
     "end_time": "2019-07-09T17:20:01.146014Z",
     "start_time": "2019-07-09T17:16:28.666Z"
    }
   },
   "outputs": [],
   "source": [
    "keepers = [\n",
    "    'c-EffYr',\n",
    "    'c-Footage',\n",
    "    'c-LandPerUnit',\n",
    "    'c-NbrStories',\n",
    "    'c-YrBuilt',\n",
    "    'r-YrBuilt',\n",
    "    'r-YrRenovated',\n",
    "    'a-effyrtot',\n",
    "    'a-nstoriestot',\n",
    "    'a-yrbuilttot',\n",
    "    'a-unitsftotal',\n",
    "    'HU',\n",
    "    'aptshare',\n",
    "    'condoshare',\n",
    "    'dsfshare',\n",
    "    'duptripshare',\n",
    "    'HUDensity',\n",
    "    'LandValHU',\n",
    "    'ImpValHU'\n",
    "]\n",
    "X3 = X2[keepers]"
   ]
  },
  {
   "cell_type": "code",
   "execution_count": null,
   "metadata": {
    "ExecuteTime": {
     "end_time": "2019-07-09T17:20:01.148960Z",
     "start_time": "2019-07-09T17:16:28.671Z"
    }
   },
   "outputs": [],
   "source": [
    "shares = [\n",
    "    'Elevators_Y',\n",
    "    'Fireplace_Y',\n",
    "    'Laundry_PRIVATE',\n",
    "    'SectySystem_Y',\n",
    "    'AptConversion',\n",
    "    'bath',\n",
    "    'AdjacentGolfFairway_Y',\n",
    "    'Powerline_Y',\n",
    "    'SewerSystemPvt',\n",
    "    'WaterSystemPvt',\n",
    "    'StreetSurfaceUnpaved',\n",
    "    'BldgQuality',\n",
    "    'ConstrClass',\n",
    "    'ProjectAppeal',\n",
    "    'ProjectLocation',\n",
    "    'Bedrooms',\n",
    "    'WfntFootage',\n",
    "    'DupTrip',\n",
    "    'DSF',\n",
    "    'LakeWashington',\n",
    "    'MtRainier',\n",
    "    'Olympics',\n",
    "    'OtherView',\n",
    "    'SeattleSkyline',\n",
    "    'SmallLakeRiverCreek',\n",
    "    'Territorial',\n",
    "    'TrafficNoise',\n",
    "    'WfntLocation',\n",
    "    'BrickStone',\n",
    "    'fp',\n",
    "    'garage'\n",
    "]\n",
    "\n",
    "denoms = {\n",
    "    'a-': 'a-NbrUnits',\n",
    "    'c-': 'c-pinn',\n",
    "    'r-': 'r-NbrLivingUnits',\n",
    "    'p-': 'p-SqFtLot'\n",
    "}\n",
    "\n",
    "for key, val in denoms.items():\n",
    "    for col in shares:\n",
    "        a = key + col\n",
    "        for x in X2.columns.tolist():\n",
    "            if a in x:\n",
    "                X3[x] = X2[x] / X2[val]"
   ]
  },
  {
   "cell_type": "code",
   "execution_count": null,
   "metadata": {
    "ExecuteTime": {
     "end_time": "2019-07-09T17:20:01.152657Z",
     "start_time": "2019-07-09T17:16:28.675Z"
    }
   },
   "outputs": [],
   "source": [
    "contest['trump'] = contest['share_9266_1'] / \\\n",
    "    (contest['share_9269_1'] + contest['share_9266_1'])"
   ]
  },
  {
   "cell_type": "code",
   "execution_count": null,
   "metadata": {
    "ExecuteTime": {
     "end_time": "2019-07-09T17:20:01.156070Z",
     "start_time": "2019-07-09T17:16:28.680Z"
    }
   },
   "outputs": [],
   "source": [
    "contest['trumpmed'] = (\n",
    "    contest['trump'] > contest['trump'].median()).astype(int)"
   ]
  },
  {
   "cell_type": "code",
   "execution_count": null,
   "metadata": {
    "ExecuteTime": {
     "end_time": "2019-07-09T17:20:01.159736Z",
     "start_time": "2019-07-09T17:16:28.684Z"
    }
   },
   "outputs": [],
   "source": [
    "target = contest[['name', 'trump']]\n",
    "X3 = X3.merge(target, how='left', left_on='name', right_on='name')"
   ]
  },
  {
   "cell_type": "code",
   "execution_count": null,
   "metadata": {
    "ExecuteTime": {
     "end_time": "2019-07-09T17:20:01.163077Z",
     "start_time": "2019-07-09T17:16:28.689Z"
    }
   },
   "outputs": [],
   "source": [
    "X3.to_csv('housingpresident.csv')"
   ]
  },
  {
   "cell_type": "code",
   "execution_count": null,
   "metadata": {
    "ExecuteTime": {
     "end_time": "2019-07-09T17:20:01.166341Z",
     "start_time": "2019-07-09T17:16:28.693Z"
    }
   },
   "outputs": [],
   "source": [
    "X3 = X3.fillna(0)"
   ]
  },
  {
   "cell_type": "code",
   "execution_count": null,
   "metadata": {
    "ExecuteTime": {
     "end_time": "2019-07-09T17:20:01.169546Z",
     "start_time": "2019-07-09T17:16:28.698Z"
    }
   },
   "outputs": [],
   "source": [
    "y = X3['trumpmed']\n",
    "X = X3.drop(['trumpmed', 'name'], axis=1)\n",
    "X3.to_csv('prezhousing.csv')"
   ]
  },
  {
   "cell_type": "markdown",
   "metadata": {},
   "source": [
    "### REPLACE THIS WITH A PIPELINE OBJECT"
   ]
  },
  {
   "cell_type": "code",
   "execution_count": null,
   "metadata": {
    "ExecuteTime": {
     "end_time": "2019-07-09T17:20:01.173127Z",
     "start_time": "2019-07-09T17:16:29.042Z"
    }
   },
   "outputs": [],
   "source": [
    "from yellowbrick.target import FeatureCorrelation\n",
    "corrviz = FeatureCorrelation(labels=X.columns, size=(600, 2200), sort=True)\n",
    "corrviz.fit(X, y)\n",
    "corrviz.poof()"
   ]
  },
  {
   "cell_type": "code",
   "execution_count": null,
   "metadata": {
    "ExecuteTime": {
     "end_time": "2019-07-09T17:20:01.176713Z",
     "start_time": "2019-07-09T17:16:29.046Z"
    }
   },
   "outputs": [],
   "source": [
    "pd.DataFrame(corrviz.scores_).plot.kde()"
   ]
  },
  {
   "cell_type": "code",
   "execution_count": null,
   "metadata": {
    "ExecuteTime": {
     "end_time": "2019-07-09T17:20:01.180354Z",
     "start_time": "2019-07-09T17:16:29.051Z"
    }
   },
   "outputs": [],
   "source": [
    "pd.Series(abs(corrviz.scores_)).quantile([.2, .5, .8])"
   ]
  },
  {
   "cell_type": "code",
   "execution_count": null,
   "metadata": {
    "ExecuteTime": {
     "end_time": "2019-07-09T17:20:01.183795Z",
     "start_time": "2019-07-09T17:16:29.056Z"
    }
   },
   "outputs": [],
   "source": [
    "featurescores = pd.DataFrame(corrviz.scores_)"
   ]
  },
  {
   "cell_type": "code",
   "execution_count": null,
   "metadata": {
    "ExecuteTime": {
     "end_time": "2019-07-09T17:20:01.187166Z",
     "start_time": "2019-07-09T17:16:29.060Z"
    }
   },
   "outputs": [],
   "source": [
    "featurescores['labels'] = corrviz.features_"
   ]
  },
  {
   "cell_type": "code",
   "execution_count": null,
   "metadata": {
    "ExecuteTime": {
     "end_time": "2019-07-09T17:20:01.190968Z",
     "start_time": "2019-07-09T17:16:29.065Z"
    }
   },
   "outputs": [],
   "source": [
    "featurescores.columns = ['score', 'feature']"
   ]
  },
  {
   "cell_type": "code",
   "execution_count": null,
   "metadata": {
    "ExecuteTime": {
     "end_time": "2019-07-09T17:20:01.194447Z",
     "start_time": "2019-07-09T17:16:29.070Z"
    }
   },
   "outputs": [],
   "source": [
    "featurescores[abs(featurescores['score']) > .23]['feature']"
   ]
  },
  {
   "cell_type": "code",
   "execution_count": null,
   "metadata": {
    "ExecuteTime": {
     "end_time": "2019-07-09T17:20:01.197833Z",
     "start_time": "2019-07-09T17:16:29.075Z"
    }
   },
   "outputs": [],
   "source": [
    "from sklearn.model_selection import cross_val_score\n",
    "from sklearn.model_selection import train_test_split"
   ]
  },
  {
   "cell_type": "code",
   "execution_count": null,
   "metadata": {
    "ExecuteTime": {
     "end_time": "2019-07-09T17:20:01.201118Z",
     "start_time": "2019-07-09T17:16:29.080Z"
    }
   },
   "outputs": [],
   "source": [
    "X = X.drop(['a-BldgQuality_0', 'a-ConstrClass_0', 'c-AptConversion_0'], axis=1)"
   ]
  },
  {
   "cell_type": "code",
   "execution_count": null,
   "metadata": {
    "ExecuteTime": {
     "end_time": "2019-07-09T17:20:01.204701Z",
     "start_time": "2019-07-09T17:16:29.088Z"
    }
   },
   "outputs": [],
   "source": [
    "X.head()"
   ]
  },
  {
   "cell_type": "code",
   "execution_count": null,
   "metadata": {
    "ExecuteTime": {
     "end_time": "2019-07-09T17:20:01.208756Z",
     "start_time": "2019-07-09T17:16:29.093Z"
    }
   },
   "outputs": [],
   "source": [
    "from sklearn.preprocessing import QuantileTransformer\n",
    "qt = QuantileTransformer(n_quantiles=100)\n",
    "Xq = pd.DataFrame(qt.fit_transform(X))\n",
    "Xq.columns = X.columns"
   ]
  },
  {
   "cell_type": "code",
   "execution_count": null,
   "metadata": {
    "ExecuteTime": {
     "end_time": "2019-07-09T17:20:01.212333Z",
     "start_time": "2019-07-09T17:16:29.097Z"
    }
   },
   "outputs": [],
   "source": [
    "X2 = Xq[['r-garage', 'HUDensity', 'r-fp', 'a-SectySystem_Y']]"
   ]
  },
  {
   "cell_type": "code",
   "execution_count": null,
   "metadata": {
    "ExecuteTime": {
     "end_time": "2019-07-09T17:20:01.215620Z",
     "start_time": "2019-07-09T17:16:29.102Z"
    }
   },
   "outputs": [],
   "source": [
    "from yellowbrick.features import RFECV"
   ]
  },
  {
   "cell_type": "code",
   "execution_count": null,
   "metadata": {
    "ExecuteTime": {
     "end_time": "2019-07-09T17:20:01.219149Z",
     "start_time": "2019-07-09T17:16:29.107Z"
    }
   },
   "outputs": [],
   "source": [
    "X_train, X_test, y_train, y_test = train_test_split(X2, y, test_size=.3)"
   ]
  },
  {
   "cell_type": "code",
   "execution_count": null,
   "metadata": {
    "ExecuteTime": {
     "end_time": "2019-07-09T17:20:01.222581Z",
     "start_time": "2019-07-09T17:16:29.111Z"
    }
   },
   "outputs": [],
   "source": [
    "from sklearn.linear_model import LogisticRegression"
   ]
  },
  {
   "cell_type": "code",
   "execution_count": null,
   "metadata": {
    "ExecuteTime": {
     "end_time": "2019-07-09T17:20:01.225623Z",
     "start_time": "2019-07-09T17:16:29.116Z"
    }
   },
   "outputs": [],
   "source": [
    "lr = LogisticRegression(C=.02)\n",
    "fit = lr.fit(X_train, y_train)"
   ]
  },
  {
   "cell_type": "code",
   "execution_count": null,
   "metadata": {
    "ExecuteTime": {
     "end_time": "2019-07-09T17:20:01.228823Z",
     "start_time": "2019-07-09T17:16:29.121Z"
    }
   },
   "outputs": [],
   "source": [
    "from yellowbrick.classifier import ClassificationReport"
   ]
  },
  {
   "cell_type": "code",
   "execution_count": null,
   "metadata": {
    "ExecuteTime": {
     "end_time": "2019-07-09T17:20:01.231995Z",
     "start_time": "2019-07-09T17:16:29.125Z"
    }
   },
   "outputs": [],
   "source": [
    "visualizer = ClassificationReport(lr, support=True)\n",
    "visualizer.fit(X_train, y_train)\n",
    "visualizer.score(X_test, y_test)\n",
    "visualizer.poof()"
   ]
  },
  {
   "cell_type": "code",
   "execution_count": null,
   "metadata": {
    "ExecuteTime": {
     "end_time": "2019-07-09T17:20:01.235225Z",
     "start_time": "2019-07-09T17:16:29.130Z"
    }
   },
   "outputs": [],
   "source": [
    "corrmat = X.corr()\n",
    "f, ax = plt.subplots()\n",
    "plt.figure(figsize=(35, 35))\n",
    "corrmat = corrmat.sort_index(axis=0)\n",
    "corrmat = corrmat.sort_index(axis=1)\n",
    "sns.heatmap(corrmat)\n",
    "plt.show()"
   ]
  },
  {
   "cell_type": "code",
   "execution_count": null,
   "metadata": {
    "ExecuteTime": {
     "end_time": "2019-07-09T17:20:01.238541Z",
     "start_time": "2019-07-09T17:16:29.135Z"
    }
   },
   "outputs": [],
   "source": [
    "from sklearn."
   ]
  }
 ],
 "metadata": {
  "hide_input": false,
  "kernelspec": {
   "display_name": "Python 3",
   "language": "python",
   "name": "python3"
  },
  "language_info": {
   "codemirror_mode": {
    "name": "ipython",
    "version": 3
   },
   "file_extension": ".py",
   "mimetype": "text/x-python",
   "name": "python",
   "nbconvert_exporter": "python",
   "pygments_lexer": "ipython3",
   "version": "3.7.1"
  },
  "toc": {
   "base_numbering": 1,
   "nav_menu": {},
   "number_sections": true,
   "sideBar": true,
   "skip_h1_title": false,
   "title_cell": "Contents",
   "title_sidebar": "Contents",
   "toc_cell": false,
   "toc_position": {},
   "toc_section_display": true,
   "toc_window_display": false
  },
  "varInspector": {
   "cols": {
    "lenName": 16,
    "lenType": 16,
    "lenVar": 40
   },
   "kernels_config": {
    "python": {
     "delete_cmd_postfix": "",
     "delete_cmd_prefix": "del ",
     "library": "var_list.py",
     "varRefreshCmd": "print(var_dic_list())"
    },
    "r": {
     "delete_cmd_postfix": ") ",
     "delete_cmd_prefix": "rm(",
     "library": "var_list.r",
     "varRefreshCmd": "cat(var_dic_list()) "
    }
   },
   "types_to_exclude": [
    "module",
    "function",
    "builtin_function_or_method",
    "instance",
    "_Feature"
   ],
   "window_display": false
  }
 },
 "nbformat": 4,
 "nbformat_minor": 2
}
